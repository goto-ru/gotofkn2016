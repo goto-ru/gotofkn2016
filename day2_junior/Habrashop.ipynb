{
 "cells": [
  {
   "cell_type": "code",
   "execution_count": 3,
   "metadata": {
    "collapsed": false
   },
   "outputs": [],
   "source": [
    "import gzip, json \n",
    "corpus=[] \n",
    "for line in gzip.open(\"habra_corpus.json.gz\"): \n",
    "    corpus.append(json.loads(line.decode('utf8')))"
   ]
  },
  {
   "cell_type": "code",
   "execution_count": 7,
   "metadata": {
    "collapsed": false
   },
   "outputs": [
    {
     "name": "stdout",
     "output_type": "stream",
     "text": [
      "\n",
      "      Я уже писал про классификацию и два основных пути создания интерактивных прототипов. В большинстве случаев мы делаем как раз цветной прототип. По сути, это обычная верстка HTML-шаблонов страниц на основе визуального дизайна, включающая в себя JavaScript-взаимодействия. Разница в том, что эти шаблоны еще много раз поменяются и дополнятся.\n",
      "\n",
      "\n",
      "Процесс создания\r\n",
      "Автоматические средства создания прототипов на основе схем страниц — те же Axure RP Pro и Intuitect — я стараюсь не использовать. Они и сами по себе заточены под типовые задачи, так что когда нужно делать что-то нестандартное, все их преимущества теряются. Зато добавляется сложности варки каши из топора. Поэтому мы стараемся делать прототипы вручную, с помощью обычных программ для HTML-верстки.\n",
      "\r\n",
      "Процесс достаточно прост. На вход верстальщику поступает набор дизайн-макетов, на выходе — набор HTML-файлов. Расписывать тут особо нечего, лучше обратиться к любой статье по HTML-верстке. Но есть пара моментов, которые важны при соз\n"
     ]
    }
   ],
   "source": [
    "\n",
    "\n",
    "print corpus[0]['text'][:1000]"
   ]
  }
 ],
 "metadata": {
  "kernelspec": {
   "display_name": "Python 2",
   "language": "python",
   "name": "python2"
  },
  "language_info": {
   "codemirror_mode": {
    "name": "ipython",
    "version": 2
   },
   "file_extension": ".py",
   "mimetype": "text/x-python",
   "name": "python",
   "nbconvert_exporter": "python",
   "pygments_lexer": "ipython2",
   "version": "2.7.6"
  }
 },
 "nbformat": 4,
 "nbformat_minor": 0
}
